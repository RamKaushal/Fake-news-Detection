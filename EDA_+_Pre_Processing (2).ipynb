{
  "nbformat": 4,
  "nbformat_minor": 0,
  "metadata": {
    "accelerator": "GPU",
    "colab": {
      "name": "EDA_+_Pre_Processing.ipynb",
      "provenance": [],
      "collapsed_sections": []
    },
    "kernelspec": {
      "display_name": "Python 3",
      "name": "python3"
    }
  },
  "cells": [
    {
      "cell_type": "markdown",
      "metadata": {
        "id": "ivAb_Eb0hGTi"
      },
      "source": [
        "### **Exploratory Analysis + Pre-Processing**"
      ]
    },
    {
      "cell_type": "code",
      "metadata": {
        "id": "nN6Twjj7I_P5"
      },
      "source": [
        "import json\n",
        "import pandas as pd\n",
        "import numpy as np\n",
        "import seaborn as sns\n",
        "import matplotlib.pyplot as plt\n",
        "import nltk\n",
        "from nltk.corpus import stopwords\n",
        "from nltk.tokenize import word_tokenize\n",
        "import spacy\n",
        "import wordcloud \n",
        "from wordcloud import WordCloud\n",
        "import statistics\n",
        "from collections import Counter\n",
        "import datetime\n",
        "import textblob\n",
        "from textblob import TextBlob\n",
        "import sklearn"
      ],
      "execution_count": null,
      "outputs": []
    },
    {
      "cell_type": "code",
      "metadata": {
        "colab": {
          "base_uri": "https://localhost:8080/"
        },
        "id": "uEy-MxEjDZDT",
        "outputId": "85f97757-f335-4aeb-edb2-8b91439899ac"
      },
      "source": [
        "import os\n",
        "from google.colab import drive\n",
        "\n",
        "# Mount google drive\n",
        "DRIVE_MOUNT='/content/gdrive'\n",
        "drive.mount(DRIVE_MOUNT)\n",
        "\n",
        "# create folder to write data to\n",
        "B11=os.path.join(DRIVE_MOUNT, 'My Drive', 'B11_2021')\n",
        "HOMEWORK_FOLDER=os.path.join(B11, 'Project')\n",
        "os.makedirs(HOMEWORK_FOLDER, exist_ok=True)"
      ],
      "execution_count": null,
      "outputs": [
        {
          "output_type": "stream",
          "text": [
            "Mounted at /content/gdrive\n"
          ],
          "name": "stdout"
        }
      ]
    },
    {
      "cell_type": "code",
      "metadata": {
        "id": "5Yob44DdITv0"
      },
      "source": [
        "fake = pd.read_csv('/content/gdrive/MyDrive/B11_2021/Project/Fake.csv')\n",
        "true = pd.read_csv('/content/gdrive/My Drive/B11_2021/Project/True.csv')\n",
        "with open('/content/gdrive/My Drive/B11_2021/Project/scraped_articles.json') as json_data:\n",
        "    scraped = json.load(json_data)"
      ],
      "execution_count": null,
      "outputs": []
    },
    {
      "cell_type": "code",
      "metadata": {
        "colab": {
          "base_uri": "https://localhost:8080/",
          "height": 195
        },
        "id": "eGLrP2Ww9oI0",
        "outputId": "4e76c706-b0f5-42d6-9da6-0fe083798039"
      },
      "source": [
        "fake.head()"
      ],
      "execution_count": null,
      "outputs": [
        {
          "output_type": "execute_result",
          "data": {
            "text/html": [
              "<div>\n",
              "<style scoped>\n",
              "    .dataframe tbody tr th:only-of-type {\n",
              "        vertical-align: middle;\n",
              "    }\n",
              "\n",
              "    .dataframe tbody tr th {\n",
              "        vertical-align: top;\n",
              "    }\n",
              "\n",
              "    .dataframe thead th {\n",
              "        text-align: right;\n",
              "    }\n",
              "</style>\n",
              "<table border=\"1\" class=\"dataframe\">\n",
              "  <thead>\n",
              "    <tr style=\"text-align: right;\">\n",
              "      <th></th>\n",
              "      <th>title</th>\n",
              "      <th>text</th>\n",
              "      <th>subject</th>\n",
              "      <th>date</th>\n",
              "    </tr>\n",
              "  </thead>\n",
              "  <tbody>\n",
              "    <tr>\n",
              "      <th>0</th>\n",
              "      <td>Donald Trump Sends Out Embarrassing New Year’...</td>\n",
              "      <td>Donald Trump just couldn t wish all Americans ...</td>\n",
              "      <td>News</td>\n",
              "      <td>December 31, 2017</td>\n",
              "    </tr>\n",
              "    <tr>\n",
              "      <th>1</th>\n",
              "      <td>Drunk Bragging Trump Staffer Started Russian ...</td>\n",
              "      <td>House Intelligence Committee Chairman Devin Nu...</td>\n",
              "      <td>News</td>\n",
              "      <td>December 31, 2017</td>\n",
              "    </tr>\n",
              "    <tr>\n",
              "      <th>2</th>\n",
              "      <td>Sheriff David Clarke Becomes An Internet Joke...</td>\n",
              "      <td>On Friday, it was revealed that former Milwauk...</td>\n",
              "      <td>News</td>\n",
              "      <td>December 30, 2017</td>\n",
              "    </tr>\n",
              "    <tr>\n",
              "      <th>3</th>\n",
              "      <td>Trump Is So Obsessed He Even Has Obama’s Name...</td>\n",
              "      <td>On Christmas day, Donald Trump announced that ...</td>\n",
              "      <td>News</td>\n",
              "      <td>December 29, 2017</td>\n",
              "    </tr>\n",
              "    <tr>\n",
              "      <th>4</th>\n",
              "      <td>Pope Francis Just Called Out Donald Trump Dur...</td>\n",
              "      <td>Pope Francis used his annual Christmas Day mes...</td>\n",
              "      <td>News</td>\n",
              "      <td>December 25, 2017</td>\n",
              "    </tr>\n",
              "  </tbody>\n",
              "</table>\n",
              "</div>"
            ],
            "text/plain": [
              "                                               title  ...               date\n",
              "0   Donald Trump Sends Out Embarrassing New Year’...  ...  December 31, 2017\n",
              "1   Drunk Bragging Trump Staffer Started Russian ...  ...  December 31, 2017\n",
              "2   Sheriff David Clarke Becomes An Internet Joke...  ...  December 30, 2017\n",
              "3   Trump Is So Obsessed He Even Has Obama’s Name...  ...  December 29, 2017\n",
              "4   Pope Francis Just Called Out Donald Trump Dur...  ...  December 25, 2017\n",
              "\n",
              "[5 rows x 4 columns]"
            ]
          },
          "metadata": {
            "tags": []
          },
          "execution_count": 5
        }
      ]
    },
    {
      "cell_type": "code",
      "metadata": {
        "colab": {
          "base_uri": "https://localhost:8080/",
          "height": 195
        },
        "id": "ifZz1uiu9rn0",
        "outputId": "a1f5d04b-a950-4939-f1d9-371c77a072be"
      },
      "source": [
        "true.head()"
      ],
      "execution_count": null,
      "outputs": [
        {
          "output_type": "execute_result",
          "data": {
            "text/html": [
              "<div>\n",
              "<style scoped>\n",
              "    .dataframe tbody tr th:only-of-type {\n",
              "        vertical-align: middle;\n",
              "    }\n",
              "\n",
              "    .dataframe tbody tr th {\n",
              "        vertical-align: top;\n",
              "    }\n",
              "\n",
              "    .dataframe thead th {\n",
              "        text-align: right;\n",
              "    }\n",
              "</style>\n",
              "<table border=\"1\" class=\"dataframe\">\n",
              "  <thead>\n",
              "    <tr style=\"text-align: right;\">\n",
              "      <th></th>\n",
              "      <th>title</th>\n",
              "      <th>text</th>\n",
              "      <th>subject</th>\n",
              "      <th>date</th>\n",
              "    </tr>\n",
              "  </thead>\n",
              "  <tbody>\n",
              "    <tr>\n",
              "      <th>0</th>\n",
              "      <td>As U.S. budget fight looms, Republicans flip t...</td>\n",
              "      <td>WASHINGTON (Reuters) - The head of a conservat...</td>\n",
              "      <td>politicsNews</td>\n",
              "      <td>December 31, 2017</td>\n",
              "    </tr>\n",
              "    <tr>\n",
              "      <th>1</th>\n",
              "      <td>U.S. military to accept transgender recruits o...</td>\n",
              "      <td>WASHINGTON (Reuters) - Transgender people will...</td>\n",
              "      <td>politicsNews</td>\n",
              "      <td>December 29, 2017</td>\n",
              "    </tr>\n",
              "    <tr>\n",
              "      <th>2</th>\n",
              "      <td>Senior U.S. Republican senator: 'Let Mr. Muell...</td>\n",
              "      <td>WASHINGTON (Reuters) - The special counsel inv...</td>\n",
              "      <td>politicsNews</td>\n",
              "      <td>December 31, 2017</td>\n",
              "    </tr>\n",
              "    <tr>\n",
              "      <th>3</th>\n",
              "      <td>FBI Russia probe helped by Australian diplomat...</td>\n",
              "      <td>WASHINGTON (Reuters) - Trump campaign adviser ...</td>\n",
              "      <td>politicsNews</td>\n",
              "      <td>December 30, 2017</td>\n",
              "    </tr>\n",
              "    <tr>\n",
              "      <th>4</th>\n",
              "      <td>Trump wants Postal Service to charge 'much mor...</td>\n",
              "      <td>SEATTLE/WASHINGTON (Reuters) - President Donal...</td>\n",
              "      <td>politicsNews</td>\n",
              "      <td>December 29, 2017</td>\n",
              "    </tr>\n",
              "  </tbody>\n",
              "</table>\n",
              "</div>"
            ],
            "text/plain": [
              "                                               title  ...                date\n",
              "0  As U.S. budget fight looms, Republicans flip t...  ...  December 31, 2017 \n",
              "1  U.S. military to accept transgender recruits o...  ...  December 29, 2017 \n",
              "2  Senior U.S. Republican senator: 'Let Mr. Muell...  ...  December 31, 2017 \n",
              "3  FBI Russia probe helped by Australian diplomat...  ...  December 30, 2017 \n",
              "4  Trump wants Postal Service to charge 'much mor...  ...  December 29, 2017 \n",
              "\n",
              "[5 rows x 4 columns]"
            ]
          },
          "metadata": {
            "tags": []
          },
          "execution_count": 6
        }
      ]
    },
    {
      "cell_type": "code",
      "metadata": {
        "colab": {
          "base_uri": "https://localhost:8080/"
        },
        "id": "J4yF4Zx79yqJ",
        "outputId": "4fcf5996-1f6a-43f7-9afb-35f184d7b848"
      },
      "source": [
        "print(list(scraped['newspapers']))"
      ],
      "execution_count": null,
      "outputs": [
        {
          "output_type": "stream",
          "text": [
            "['cnn', 'bbc', 'theguardian', 'breitbart', 'infowars', 'foxnews', 'nbcnews', 'washingtonpost', 'theonion']\n"
          ],
          "name": "stdout"
        }
      ]
    },
    {
      "cell_type": "code",
      "metadata": {
        "id": "9OrOQC_oXS-7"
      },
      "source": [
        "for i, site in enumerate((list(scraped['newspapers']))):\n",
        "    articles = list(scraped['newspapers'][site]['articles'])\n",
        "    if i == 0:\n",
        "        df = pd.DataFrame.from_dict(articles)\n",
        "        df[\"site\"] = site\n",
        "    else:\n",
        "        new_df = pd.DataFrame.from_dict(articles)\n",
        "        new_df[\"site\"] = site\n",
        "        df = pd.concat([df, new_df], ignore_index = True)     "
      ],
      "execution_count": null,
      "outputs": []
    },
    {
      "cell_type": "code",
      "metadata": {
        "colab": {
          "base_uri": "https://localhost:8080/",
          "height": 570
        },
        "id": "hit_X-9r-037",
        "outputId": "9e725f15-ee54-4026-c48e-a8343398a95d"
      },
      "source": [
        "df"
      ],
      "execution_count": null,
      "outputs": [
        {
          "output_type": "execute_result",
          "data": {
            "text/html": [
              "<div>\n",
              "<style scoped>\n",
              "    .dataframe tbody tr th:only-of-type {\n",
              "        vertical-align: middle;\n",
              "    }\n",
              "\n",
              "    .dataframe tbody tr th {\n",
              "        vertical-align: top;\n",
              "    }\n",
              "\n",
              "    .dataframe thead th {\n",
              "        text-align: right;\n",
              "    }\n",
              "</style>\n",
              "<table border=\"1\" class=\"dataframe\">\n",
              "  <thead>\n",
              "    <tr style=\"text-align: right;\">\n",
              "      <th></th>\n",
              "      <th>title</th>\n",
              "      <th>text</th>\n",
              "      <th>link</th>\n",
              "      <th>published</th>\n",
              "      <th>site</th>\n",
              "    </tr>\n",
              "  </thead>\n",
              "  <tbody>\n",
              "    <tr>\n",
              "      <th>0</th>\n",
              "      <td>Eyewitnesses recount bloody crackdown in Bago,...</td>\n",
              "      <td>At least 82 anti-coup protestors were killed b...</td>\n",
              "      <td>http://edition.cnn.com/videos/world/2021/04/16...</td>\n",
              "      <td>2021-04-16T00:00:00</td>\n",
              "      <td>cnn</td>\n",
              "    </tr>\n",
              "    <tr>\n",
              "      <th>1</th>\n",
              "      <td>This Welsh river turned white due to a milk spill</td>\n",
              "      <td>Photos and videos of the River Dulais in Wales...</td>\n",
              "      <td>http://edition.cnn.com/videos/world/2021/04/16...</td>\n",
              "      <td>2021-04-16T00:00:00</td>\n",
              "      <td>cnn</td>\n",
              "    </tr>\n",
              "    <tr>\n",
              "      <th>2</th>\n",
              "      <td>Hong Kong police showcase 'Chinese-style goose...</td>\n",
              "      <td>Hong Kong marked the first National Security E...</td>\n",
              "      <td>http://edition.cnn.com/videos/world/2021/04/16...</td>\n",
              "      <td>2021-04-16T00:00:00</td>\n",
              "      <td>cnn</td>\n",
              "    </tr>\n",
              "    <tr>\n",
              "      <th>3</th>\n",
              "      <td>In Brazil, coronavirus killed 3 people every m...</td>\n",
              "      <td>Experts warn Brazil could soon suffer an \"unim...</td>\n",
              "      <td>http://edition.cnn.com/videos/world/2021/04/16...</td>\n",
              "      <td>2021-04-16T00:00:00</td>\n",
              "      <td>cnn</td>\n",
              "    </tr>\n",
              "    <tr>\n",
              "      <th>4</th>\n",
              "      <td>New sanctions imposed on Russia in response to...</td>\n",
              "      <td>The Biden administration targeted Russia with ...</td>\n",
              "      <td>http://edition.cnn.com/videos/politics/2021/04...</td>\n",
              "      <td>2021-04-15T00:00:00</td>\n",
              "      <td>cnn</td>\n",
              "    </tr>\n",
              "    <tr>\n",
              "      <th>...</th>\n",
              "      <td>...</td>\n",
              "      <td>...</td>\n",
              "      <td>...</td>\n",
              "      <td>...</td>\n",
              "      <td>...</td>\n",
              "    </tr>\n",
              "    <tr>\n",
              "      <th>1433</th>\n",
              "      <td>12 Steps to Starting a Small Business</td>\n",
              "      <td>Getty Images\\n\\nBeing your own boss can be imm...</td>\n",
              "      <td>https://www.nbcnews.com/veteran-services/next-...</td>\n",
              "      <td>2019-05-02T18:39:00+00:00</td>\n",
              "      <td>nbcnews</td>\n",
              "    </tr>\n",
              "    <tr>\n",
              "      <th>1434</th>\n",
              "      <td>Military families say this is their top concern</td>\n",
              "      <td>Members of the military face hurdles every day...</td>\n",
              "      <td>https://www.nbcnews.com/veteran-services/next-...</td>\n",
              "      <td>2019-05-28T17:17:00+00:00</td>\n",
              "      <td>nbcnews</td>\n",
              "    </tr>\n",
              "    <tr>\n",
              "      <th>1435</th>\n",
              "      <td>CNBC AND ACORNS ANNOUNCE STRATEGIC PARTNERSHIP</td>\n",
              "      <td>CNBC TO PROVIDE EDITORIAL AND PRODUCTION EXPER...</td>\n",
              "      <td>https://www.cnbc.com/2019/01/28/cnbc-and-acorn...</td>\n",
              "      <td>2019-01-28T00:00:00</td>\n",
              "      <td>nbcnews</td>\n",
              "    </tr>\n",
              "    <tr>\n",
              "      <th>1436</th>\n",
              "      <td>'Captain Tom': Funeral held for U.K. war veter...</td>\n",
              "      <td>LONDON — \"I told you I was old,\" will be the e...</td>\n",
              "      <td>https://www.nbcnews.com/news/world/captain-tom...</td>\n",
              "      <td>2021-02-27T16:19:00+00:00</td>\n",
              "      <td>nbcnews</td>\n",
              "    </tr>\n",
              "    <tr>\n",
              "      <th>1437</th>\n",
              "      <td>Why veterans struggle to share their stories w...</td>\n",
              "      <td>Lt. Col. Paul Huszar had been on a mission for...</td>\n",
              "      <td>https://www.today.com/series/veterans/veterans...</td>\n",
              "      <td>2020-11-10T21:42:00+00:00</td>\n",
              "      <td>nbcnews</td>\n",
              "    </tr>\n",
              "  </tbody>\n",
              "</table>\n",
              "<p>1438 rows × 5 columns</p>\n",
              "</div>"
            ],
            "text/plain": [
              "                                                  title  ...     site\n",
              "0     Eyewitnesses recount bloody crackdown in Bago,...  ...      cnn\n",
              "1     This Welsh river turned white due to a milk spill  ...      cnn\n",
              "2     Hong Kong police showcase 'Chinese-style goose...  ...      cnn\n",
              "3     In Brazil, coronavirus killed 3 people every m...  ...      cnn\n",
              "4     New sanctions imposed on Russia in response to...  ...      cnn\n",
              "...                                                 ...  ...      ...\n",
              "1433              12 Steps to Starting a Small Business  ...  nbcnews\n",
              "1434    Military families say this is their top concern  ...  nbcnews\n",
              "1435     CNBC AND ACORNS ANNOUNCE STRATEGIC PARTNERSHIP  ...  nbcnews\n",
              "1436  'Captain Tom': Funeral held for U.K. war veter...  ...  nbcnews\n",
              "1437  Why veterans struggle to share their stories w...  ...  nbcnews\n",
              "\n",
              "[1438 rows x 5 columns]"
            ]
          },
          "metadata": {
            "tags": []
          },
          "execution_count": 9
        }
      ]
    },
    {
      "cell_type": "code",
      "metadata": {
        "id": "cUHBCoD1XjMo"
      },
      "source": [
        "scraped = df\n",
        "scraped[\"label\"] = scraped[\"site\"].apply(lambda x: \"fake\" if(x == \"breitbart\" or x == \"infowars\" or x == \"theonion\") else \"true\")\n",
        "scraped.drop(labels=[\"link\", \"site\"], axis = 1, inplace=True)"
      ],
      "execution_count": null,
      "outputs": []
    },
    {
      "cell_type": "code",
      "metadata": {
        "colab": {
          "base_uri": "https://localhost:8080/",
          "height": 402
        },
        "id": "ErkC82Ko-54h",
        "outputId": "0ffb886d-e150-4d78-8434-4e9ea3eb3d3b"
      },
      "source": [
        "mask = scraped['label'] == 'fake'\n",
        "scraped[mask]"
      ],
      "execution_count": null,
      "outputs": [
        {
          "output_type": "execute_result",
          "data": {
            "text/html": [
              "<div>\n",
              "<style scoped>\n",
              "    .dataframe tbody tr th:only-of-type {\n",
              "        vertical-align: middle;\n",
              "    }\n",
              "\n",
              "    .dataframe tbody tr th {\n",
              "        vertical-align: top;\n",
              "    }\n",
              "\n",
              "    .dataframe thead th {\n",
              "        text-align: right;\n",
              "    }\n",
              "</style>\n",
              "<table border=\"1\" class=\"dataframe\">\n",
              "  <thead>\n",
              "    <tr style=\"text-align: right;\">\n",
              "      <th></th>\n",
              "      <th>title</th>\n",
              "      <th>text</th>\n",
              "      <th>published</th>\n",
              "      <th>label</th>\n",
              "    </tr>\n",
              "  </thead>\n",
              "  <tbody>\n",
              "    <tr>\n",
              "      <th>597</th>\n",
              "      <td>WATCH: BLM Activist Asks When People ‘Ready to...</td>\n",
              "      <td>An activist speaking at Black Lives Matter Pla...</td>\n",
              "      <td>2021-04-16T00:00:00</td>\n",
              "      <td>fake</td>\n",
              "    </tr>\n",
              "    <tr>\n",
              "      <th>598</th>\n",
              "      <td>Watch Live: Hundreds of Anti-Police Protesters...</td>\n",
              "      <td>Hundreds of anti-police and Black Lives Matter...</td>\n",
              "      <td>2021-04-16T00:00:00</td>\n",
              "      <td>fake</td>\n",
              "    </tr>\n",
              "    <tr>\n",
              "      <th>599</th>\n",
              "      <td>‘Jail Killer Cops’ Protester Decries U.S. for ...</td>\n",
              "      <td>A protester in Washington, DC, blamed U.S. cap...</td>\n",
              "      <td>2021-04-16T00:00:00</td>\n",
              "      <td>fake</td>\n",
              "    </tr>\n",
              "    <tr>\n",
              "      <th>600</th>\n",
              "      <td>CNN’s Cuomo: If Cops Were Killing White Kids I...</td>\n",
              "      <td>CNN anchor Chris Cuomo said Friday that if pol...</td>\n",
              "      <td>2021-04-16T00:00:00</td>\n",
              "      <td>fake</td>\n",
              "    </tr>\n",
              "    <tr>\n",
              "      <th>601</th>\n",
              "      <td>Biden Admin to Ramp Up Experiments Using Abort...</td>\n",
              "      <td>The Biden-Harris administration’s Department o...</td>\n",
              "      <td>2021-04-16T00:00:00</td>\n",
              "      <td>fake</td>\n",
              "    </tr>\n",
              "    <tr>\n",
              "      <th>...</th>\n",
              "      <td>...</td>\n",
              "      <td>...</td>\n",
              "      <td>...</td>\n",
              "      <td>...</td>\n",
              "    </tr>\n",
              "    <tr>\n",
              "      <th>1272</th>\n",
              "      <td>Shock Footage: Man Suffers Seizure Inside Car ...</td>\n",
              "      <td>Have an important tip? Let us know. Email us h...</td>\n",
              "      <td>2021-04-16T14:18:24</td>\n",
              "      <td>fake</td>\n",
              "    </tr>\n",
              "    <tr>\n",
              "      <th>1273</th>\n",
              "      <td>Thousands of ‘Child Migrants’ Moved to New Eme...</td>\n",
              "      <td>Keep up to date with our latest:\\n\\nHave an im...</td>\n",
              "      <td>2021-04-16T14:15:00</td>\n",
              "      <td>fake</td>\n",
              "    </tr>\n",
              "    <tr>\n",
              "      <th>1274</th>\n",
              "      <td>Yet Another ‘Asian Hate Crime’ Victim Not Atta...</td>\n",
              "      <td>Have an important tip? Let us know. Email us h...</td>\n",
              "      <td>2021-04-16T11:42:42</td>\n",
              "      <td>fake</td>\n",
              "    </tr>\n",
              "    <tr>\n",
              "      <th>1275</th>\n",
              "      <td>Minneapolis BLM Icon Arrested For Failing To R...</td>\n",
              "      <td>Chaz Neal, a prominent BLM activist in Minneso...</td>\n",
              "      <td>2021-04-16T13:26:50</td>\n",
              "      <td>fake</td>\n",
              "    </tr>\n",
              "    <tr>\n",
              "      <th>1276</th>\n",
              "      <td>New Zealand Looks to Ban Cigarette Sales to An...</td>\n",
              "      <td>Have an important tip? Let us know. Email us h...</td>\n",
              "      <td>2021-04-16T10:06:32</td>\n",
              "      <td>fake</td>\n",
              "    </tr>\n",
              "  </tbody>\n",
              "</table>\n",
              "<p>680 rows × 4 columns</p>\n",
              "</div>"
            ],
            "text/plain": [
              "                                                  title  ... label\n",
              "597   WATCH: BLM Activist Asks When People ‘Ready to...  ...  fake\n",
              "598   Watch Live: Hundreds of Anti-Police Protesters...  ...  fake\n",
              "599   ‘Jail Killer Cops’ Protester Decries U.S. for ...  ...  fake\n",
              "600   CNN’s Cuomo: If Cops Were Killing White Kids I...  ...  fake\n",
              "601   Biden Admin to Ramp Up Experiments Using Abort...  ...  fake\n",
              "...                                                 ...  ...   ...\n",
              "1272  Shock Footage: Man Suffers Seizure Inside Car ...  ...  fake\n",
              "1273  Thousands of ‘Child Migrants’ Moved to New Eme...  ...  fake\n",
              "1274  Yet Another ‘Asian Hate Crime’ Victim Not Atta...  ...  fake\n",
              "1275  Minneapolis BLM Icon Arrested For Failing To R...  ...  fake\n",
              "1276  New Zealand Looks to Ban Cigarette Sales to An...  ...  fake\n",
              "\n",
              "[680 rows x 4 columns]"
            ]
          },
          "metadata": {
            "tags": []
          },
          "execution_count": 6
        }
      ]
    },
    {
      "cell_type": "code",
      "metadata": {
        "colab": {
          "base_uri": "https://localhost:8080/",
          "height": 195
        },
        "id": "5HWqz3X-_io8",
        "outputId": "01523094-0b87-47c6-c357-39ff05927863"
      },
      "source": [
        "fake.head()"
      ],
      "execution_count": null,
      "outputs": [
        {
          "output_type": "execute_result",
          "data": {
            "text/html": [
              "<div>\n",
              "<style scoped>\n",
              "    .dataframe tbody tr th:only-of-type {\n",
              "        vertical-align: middle;\n",
              "    }\n",
              "\n",
              "    .dataframe tbody tr th {\n",
              "        vertical-align: top;\n",
              "    }\n",
              "\n",
              "    .dataframe thead th {\n",
              "        text-align: right;\n",
              "    }\n",
              "</style>\n",
              "<table border=\"1\" class=\"dataframe\">\n",
              "  <thead>\n",
              "    <tr style=\"text-align: right;\">\n",
              "      <th></th>\n",
              "      <th>title</th>\n",
              "      <th>text</th>\n",
              "      <th>subject</th>\n",
              "      <th>date</th>\n",
              "    </tr>\n",
              "  </thead>\n",
              "  <tbody>\n",
              "    <tr>\n",
              "      <th>0</th>\n",
              "      <td>Donald Trump Sends Out Embarrassing New Year’...</td>\n",
              "      <td>Donald Trump just couldn t wish all Americans ...</td>\n",
              "      <td>News</td>\n",
              "      <td>December 31, 2017</td>\n",
              "    </tr>\n",
              "    <tr>\n",
              "      <th>1</th>\n",
              "      <td>Drunk Bragging Trump Staffer Started Russian ...</td>\n",
              "      <td>House Intelligence Committee Chairman Devin Nu...</td>\n",
              "      <td>News</td>\n",
              "      <td>December 31, 2017</td>\n",
              "    </tr>\n",
              "    <tr>\n",
              "      <th>2</th>\n",
              "      <td>Sheriff David Clarke Becomes An Internet Joke...</td>\n",
              "      <td>On Friday, it was revealed that former Milwauk...</td>\n",
              "      <td>News</td>\n",
              "      <td>December 30, 2017</td>\n",
              "    </tr>\n",
              "    <tr>\n",
              "      <th>3</th>\n",
              "      <td>Trump Is So Obsessed He Even Has Obama’s Name...</td>\n",
              "      <td>On Christmas day, Donald Trump announced that ...</td>\n",
              "      <td>News</td>\n",
              "      <td>December 29, 2017</td>\n",
              "    </tr>\n",
              "    <tr>\n",
              "      <th>4</th>\n",
              "      <td>Pope Francis Just Called Out Donald Trump Dur...</td>\n",
              "      <td>Pope Francis used his annual Christmas Day mes...</td>\n",
              "      <td>News</td>\n",
              "      <td>December 25, 2017</td>\n",
              "    </tr>\n",
              "  </tbody>\n",
              "</table>\n",
              "</div>"
            ],
            "text/plain": [
              "                                               title  ...               date\n",
              "0   Donald Trump Sends Out Embarrassing New Year’...  ...  December 31, 2017\n",
              "1   Drunk Bragging Trump Staffer Started Russian ...  ...  December 31, 2017\n",
              "2   Sheriff David Clarke Becomes An Internet Joke...  ...  December 30, 2017\n",
              "3   Trump Is So Obsessed He Even Has Obama’s Name...  ...  December 29, 2017\n",
              "4   Pope Francis Just Called Out Donald Trump Dur...  ...  December 25, 2017\n",
              "\n",
              "[5 rows x 4 columns]"
            ]
          },
          "metadata": {
            "tags": []
          },
          "execution_count": 12
        }
      ]
    },
    {
      "cell_type": "code",
      "metadata": {
        "colab": {
          "base_uri": "https://localhost:8080/",
          "height": 195
        },
        "id": "-vTutRpe_k7A",
        "outputId": "89212486-6633-46bb-e376-639ff8ae9d07"
      },
      "source": [
        "true.head()"
      ],
      "execution_count": null,
      "outputs": [
        {
          "output_type": "execute_result",
          "data": {
            "text/html": [
              "<div>\n",
              "<style scoped>\n",
              "    .dataframe tbody tr th:only-of-type {\n",
              "        vertical-align: middle;\n",
              "    }\n",
              "\n",
              "    .dataframe tbody tr th {\n",
              "        vertical-align: top;\n",
              "    }\n",
              "\n",
              "    .dataframe thead th {\n",
              "        text-align: right;\n",
              "    }\n",
              "</style>\n",
              "<table border=\"1\" class=\"dataframe\">\n",
              "  <thead>\n",
              "    <tr style=\"text-align: right;\">\n",
              "      <th></th>\n",
              "      <th>title</th>\n",
              "      <th>text</th>\n",
              "      <th>subject</th>\n",
              "      <th>date</th>\n",
              "    </tr>\n",
              "  </thead>\n",
              "  <tbody>\n",
              "    <tr>\n",
              "      <th>0</th>\n",
              "      <td>As U.S. budget fight looms, Republicans flip t...</td>\n",
              "      <td>WASHINGTON (Reuters) - The head of a conservat...</td>\n",
              "      <td>politicsNews</td>\n",
              "      <td>December 31, 2017</td>\n",
              "    </tr>\n",
              "    <tr>\n",
              "      <th>1</th>\n",
              "      <td>U.S. military to accept transgender recruits o...</td>\n",
              "      <td>WASHINGTON (Reuters) - Transgender people will...</td>\n",
              "      <td>politicsNews</td>\n",
              "      <td>December 29, 2017</td>\n",
              "    </tr>\n",
              "    <tr>\n",
              "      <th>2</th>\n",
              "      <td>Senior U.S. Republican senator: 'Let Mr. Muell...</td>\n",
              "      <td>WASHINGTON (Reuters) - The special counsel inv...</td>\n",
              "      <td>politicsNews</td>\n",
              "      <td>December 31, 2017</td>\n",
              "    </tr>\n",
              "    <tr>\n",
              "      <th>3</th>\n",
              "      <td>FBI Russia probe helped by Australian diplomat...</td>\n",
              "      <td>WASHINGTON (Reuters) - Trump campaign adviser ...</td>\n",
              "      <td>politicsNews</td>\n",
              "      <td>December 30, 2017</td>\n",
              "    </tr>\n",
              "    <tr>\n",
              "      <th>4</th>\n",
              "      <td>Trump wants Postal Service to charge 'much mor...</td>\n",
              "      <td>SEATTLE/WASHINGTON (Reuters) - President Donal...</td>\n",
              "      <td>politicsNews</td>\n",
              "      <td>December 29, 2017</td>\n",
              "    </tr>\n",
              "  </tbody>\n",
              "</table>\n",
              "</div>"
            ],
            "text/plain": [
              "                                               title  ...                date\n",
              "0  As U.S. budget fight looms, Republicans flip t...  ...  December 31, 2017 \n",
              "1  U.S. military to accept transgender recruits o...  ...  December 29, 2017 \n",
              "2  Senior U.S. Republican senator: 'Let Mr. Muell...  ...  December 31, 2017 \n",
              "3  FBI Russia probe helped by Australian diplomat...  ...  December 30, 2017 \n",
              "4  Trump wants Postal Service to charge 'much mor...  ...  December 29, 2017 \n",
              "\n",
              "[5 rows x 4 columns]"
            ]
          },
          "metadata": {
            "tags": []
          },
          "execution_count": 13
        }
      ]
    },
    {
      "cell_type": "code",
      "metadata": {
        "id": "RSTSVwsRcMwZ"
      },
      "source": [
        "#Create column with labels\n",
        "fake[\"label\"] = \"fake\"\n",
        "true[\"label\"] = \"true\""
      ],
      "execution_count": null,
      "outputs": []
    },
    {
      "cell_type": "code",
      "metadata": {
        "colab": {
          "base_uri": "https://localhost:8080/",
          "height": 195
        },
        "id": "h7L4RLWX_oYG",
        "outputId": "01e93621-5323-452b-ea41-04b42dd8bd33"
      },
      "source": [
        "true.head()"
      ],
      "execution_count": null,
      "outputs": [
        {
          "output_type": "execute_result",
          "data": {
            "text/html": [
              "<div>\n",
              "<style scoped>\n",
              "    .dataframe tbody tr th:only-of-type {\n",
              "        vertical-align: middle;\n",
              "    }\n",
              "\n",
              "    .dataframe tbody tr th {\n",
              "        vertical-align: top;\n",
              "    }\n",
              "\n",
              "    .dataframe thead th {\n",
              "        text-align: right;\n",
              "    }\n",
              "</style>\n",
              "<table border=\"1\" class=\"dataframe\">\n",
              "  <thead>\n",
              "    <tr style=\"text-align: right;\">\n",
              "      <th></th>\n",
              "      <th>title</th>\n",
              "      <th>text</th>\n",
              "      <th>subject</th>\n",
              "      <th>date</th>\n",
              "      <th>label</th>\n",
              "    </tr>\n",
              "  </thead>\n",
              "  <tbody>\n",
              "    <tr>\n",
              "      <th>0</th>\n",
              "      <td>As U.S. budget fight looms, Republicans flip t...</td>\n",
              "      <td>WASHINGTON (Reuters) - The head of a conservat...</td>\n",
              "      <td>politicsNews</td>\n",
              "      <td>December 31, 2017</td>\n",
              "      <td>true</td>\n",
              "    </tr>\n",
              "    <tr>\n",
              "      <th>1</th>\n",
              "      <td>U.S. military to accept transgender recruits o...</td>\n",
              "      <td>WASHINGTON (Reuters) - Transgender people will...</td>\n",
              "      <td>politicsNews</td>\n",
              "      <td>December 29, 2017</td>\n",
              "      <td>true</td>\n",
              "    </tr>\n",
              "    <tr>\n",
              "      <th>2</th>\n",
              "      <td>Senior U.S. Republican senator: 'Let Mr. Muell...</td>\n",
              "      <td>WASHINGTON (Reuters) - The special counsel inv...</td>\n",
              "      <td>politicsNews</td>\n",
              "      <td>December 31, 2017</td>\n",
              "      <td>true</td>\n",
              "    </tr>\n",
              "    <tr>\n",
              "      <th>3</th>\n",
              "      <td>FBI Russia probe helped by Australian diplomat...</td>\n",
              "      <td>WASHINGTON (Reuters) - Trump campaign adviser ...</td>\n",
              "      <td>politicsNews</td>\n",
              "      <td>December 30, 2017</td>\n",
              "      <td>true</td>\n",
              "    </tr>\n",
              "    <tr>\n",
              "      <th>4</th>\n",
              "      <td>Trump wants Postal Service to charge 'much mor...</td>\n",
              "      <td>SEATTLE/WASHINGTON (Reuters) - President Donal...</td>\n",
              "      <td>politicsNews</td>\n",
              "      <td>December 29, 2017</td>\n",
              "      <td>true</td>\n",
              "    </tr>\n",
              "  </tbody>\n",
              "</table>\n",
              "</div>"
            ],
            "text/plain": [
              "                                               title  ... label\n",
              "0  As U.S. budget fight looms, Republicans flip t...  ...  true\n",
              "1  U.S. military to accept transgender recruits o...  ...  true\n",
              "2  Senior U.S. Republican senator: 'Let Mr. Muell...  ...  true\n",
              "3  FBI Russia probe helped by Australian diplomat...  ...  true\n",
              "4  Trump wants Postal Service to charge 'much mor...  ...  true\n",
              "\n",
              "[5 rows x 5 columns]"
            ]
          },
          "metadata": {
            "tags": []
          },
          "execution_count": 15
        }
      ]
    },
    {
      "cell_type": "code",
      "metadata": {
        "colab": {
          "base_uri": "https://localhost:8080/",
          "height": 195
        },
        "id": "XYo2pZlE_q_H",
        "outputId": "9b2a5539-53b3-40e0-b115-3ecf57baa312"
      },
      "source": [
        "fake.head()"
      ],
      "execution_count": null,
      "outputs": [
        {
          "output_type": "execute_result",
          "data": {
            "text/html": [
              "<div>\n",
              "<style scoped>\n",
              "    .dataframe tbody tr th:only-of-type {\n",
              "        vertical-align: middle;\n",
              "    }\n",
              "\n",
              "    .dataframe tbody tr th {\n",
              "        vertical-align: top;\n",
              "    }\n",
              "\n",
              "    .dataframe thead th {\n",
              "        text-align: right;\n",
              "    }\n",
              "</style>\n",
              "<table border=\"1\" class=\"dataframe\">\n",
              "  <thead>\n",
              "    <tr style=\"text-align: right;\">\n",
              "      <th></th>\n",
              "      <th>title</th>\n",
              "      <th>text</th>\n",
              "      <th>subject</th>\n",
              "      <th>date</th>\n",
              "      <th>label</th>\n",
              "    </tr>\n",
              "  </thead>\n",
              "  <tbody>\n",
              "    <tr>\n",
              "      <th>0</th>\n",
              "      <td>Donald Trump Sends Out Embarrassing New Year’...</td>\n",
              "      <td>Donald Trump just couldn t wish all Americans ...</td>\n",
              "      <td>News</td>\n",
              "      <td>December 31, 2017</td>\n",
              "      <td>fake</td>\n",
              "    </tr>\n",
              "    <tr>\n",
              "      <th>1</th>\n",
              "      <td>Drunk Bragging Trump Staffer Started Russian ...</td>\n",
              "      <td>House Intelligence Committee Chairman Devin Nu...</td>\n",
              "      <td>News</td>\n",
              "      <td>December 31, 2017</td>\n",
              "      <td>fake</td>\n",
              "    </tr>\n",
              "    <tr>\n",
              "      <th>2</th>\n",
              "      <td>Sheriff David Clarke Becomes An Internet Joke...</td>\n",
              "      <td>On Friday, it was revealed that former Milwauk...</td>\n",
              "      <td>News</td>\n",
              "      <td>December 30, 2017</td>\n",
              "      <td>fake</td>\n",
              "    </tr>\n",
              "    <tr>\n",
              "      <th>3</th>\n",
              "      <td>Trump Is So Obsessed He Even Has Obama’s Name...</td>\n",
              "      <td>On Christmas day, Donald Trump announced that ...</td>\n",
              "      <td>News</td>\n",
              "      <td>December 29, 2017</td>\n",
              "      <td>fake</td>\n",
              "    </tr>\n",
              "    <tr>\n",
              "      <th>4</th>\n",
              "      <td>Pope Francis Just Called Out Donald Trump Dur...</td>\n",
              "      <td>Pope Francis used his annual Christmas Day mes...</td>\n",
              "      <td>News</td>\n",
              "      <td>December 25, 2017</td>\n",
              "      <td>fake</td>\n",
              "    </tr>\n",
              "  </tbody>\n",
              "</table>\n",
              "</div>"
            ],
            "text/plain": [
              "                                               title  ... label\n",
              "0   Donald Trump Sends Out Embarrassing New Year’...  ...  fake\n",
              "1   Drunk Bragging Trump Staffer Started Russian ...  ...  fake\n",
              "2   Sheriff David Clarke Becomes An Internet Joke...  ...  fake\n",
              "3   Trump Is So Obsessed He Even Has Obama’s Name...  ...  fake\n",
              "4   Pope Francis Just Called Out Donald Trump Dur...  ...  fake\n",
              "\n",
              "[5 rows x 5 columns]"
            ]
          },
          "metadata": {
            "tags": []
          },
          "execution_count": 16
        }
      ]
    },
    {
      "cell_type": "code",
      "metadata": {
        "colab": {
          "base_uri": "https://localhost:8080/"
        },
        "id": "rw8fIwR7cTbP",
        "outputId": "e6f157b2-7060-4f90-a2a8-6486eb24e603"
      },
      "source": [
        "#Check shapes of dataframes. I scraped 1844 articles to add to this dataset.\n",
        "print (fake.shape)\n",
        "print (true.shape)\n",
        "print (scraped.shape)"
      ],
      "execution_count": null,
      "outputs": [
        {
          "output_type": "stream",
          "text": [
            "(23481, 5)\n",
            "(21417, 5)\n",
            "(1438, 4)\n"
          ],
          "name": "stdout"
        }
      ]
    },
    {
      "cell_type": "code",
      "metadata": {
        "id": "9U9EIx0DGxq-"
      },
      "source": [
        "#True news has location and publisher, which fake doesn't have. Remove for consistency\n",
        "true[\"text\"] = true['text'].apply(lambda x: x.partition(\"-\")[2])"
      ],
      "execution_count": null,
      "outputs": []
    },
    {
      "cell_type": "code",
      "metadata": {
        "id": "iBhXx_ZpaAOw"
      },
      "source": [
        "scraped[\"published\"] = scraped[\"published\"].apply(lambda x: x[0:10])\n",
        "scraped[\"published\"] = scraped[\"published\"].apply(pd.to_datetime)"
      ],
      "execution_count": null,
      "outputs": []
    },
    {
      "cell_type": "code",
      "metadata": {
        "colab": {
          "base_uri": "https://localhost:8080/"
        },
        "id": "_pNanbCGSDcC",
        "outputId": "ffe8b360-b337-4bb4-e99b-5a9b344f040b"
      },
      "source": [
        "\n",
        "print (fake[\"subject\"].unique())\n",
        "print (true[\"subject\"].unique())"
      ],
      "execution_count": null,
      "outputs": [
        {
          "output_type": "stream",
          "text": [
            "['News' 'politics' 'Government News' 'left-news' 'US_News' 'Middle-east']\n",
            "['politicsNews' 'worldnews']\n"
          ],
          "name": "stdout"
        }
      ]
    },
    {
      "cell_type": "code",
      "metadata": {
        "id": "NhPZ3xCEi-w9"
      },
      "source": [
        ""
      ],
      "execution_count": null,
      "outputs": []
    },
    {
      "cell_type": "code",
      "metadata": {
        "id": "-osxeW9bWsZ-"
      },
      "source": [
        "fake.drop(\"subject\", axis=1, inplace=True)\n",
        "true.drop(\"subject\", axis=1, inplace=True)"
      ],
      "execution_count": null,
      "outputs": []
    },
    {
      "cell_type": "code",
      "metadata": {
        "id": "SXxfblimcENq"
      },
      "source": [
        "#Combine scraped with current datasets\n",
        "scraped.rename(columns={\"published\": \"date\"}, inplace=True)\n",
        "scraped_f = scraped[scraped[\"label\"] == \"fake\"]\n",
        "fake = pd.concat([fake,scraped_f], axis=0, ignore_index=True)\n",
        "\n",
        "scraped_t = scraped[scraped[\"label\"] == \"true\"]\n",
        "true = pd.concat([true,scraped_t], axis=0, ignore_index=True)"
      ],
      "execution_count": null,
      "outputs": []
    },
    {
      "cell_type": "code",
      "metadata": {
        "id": "zg7AYtRMxr9B"
      },
      "source": [
        "#Remove articles with only pictures / no text\n",
        "true = true[true[\"text\"] != \"\"] \n",
        "fake = fake[fake[\"text\"] != \"\"] "
      ],
      "execution_count": null,
      "outputs": []
    },
    {
      "cell_type": "code",
      "metadata": {
        "colab": {
          "base_uri": "https://localhost:8080/"
        },
        "id": "RQDOrCamyG8j",
        "outputId": "84975795-8c74-401a-d9a9-e4e7dfc836af"
      },
      "source": [
        "#The datasets are pretty balanced, which is good!\n",
        "print(fake.shape)\n",
        "print(true.shape)"
      ],
      "execution_count": null,
      "outputs": [
        {
          "output_type": "stream",
          "text": [
            "(24158, 4)\n",
            "(22172, 4)\n"
          ],
          "name": "stdout"
        }
      ]
    },
    {
      "cell_type": "code",
      "metadata": {
        "id": "8Qr4k0d6aq-1"
      },
      "source": [
        "fake.drop(\"date\", axis=1, inplace=True)\n",
        "true.drop(\"date\", axis=1, inplace=True)"
      ],
      "execution_count": null,
      "outputs": []
    },
    {
      "cell_type": "code",
      "metadata": {
        "id": "Llsmc14MpmA1"
      },
      "source": [
        "fake.to_csv('fakeForModeling.csv')\n",
        "!cp fakeForModeling.csv \"/content/gdrive/My Drive/B11_2021/Project/\""
      ],
      "execution_count": null,
      "outputs": []
    },
    {
      "cell_type": "code",
      "metadata": {
        "id": "Favfxwk_rz5Z"
      },
      "source": [
        "true.to_csv('trueForModeling.csv')\n",
        "!cp trueForModeling.csv \"/content/gdrive/My Drive/B11_2021/Project/\""
      ],
      "execution_count": null,
      "outputs": []
    },
    {
      "cell_type": "markdown",
      "metadata": {
        "id": "HAvBNaM3Ec-2"
      },
      "source": [
        "#### Testing with different methods##"
      ]
    },
    {
      "cell_type": "code",
      "metadata": {
        "id": "0wmsZgSoa0Je"
      },
      "source": [
        "fake.drop(\"title\", axis=1, inplace=True)\n",
        "true.drop(\"title\", axis=1, inplace=True)"
      ],
      "execution_count": null,
      "outputs": []
    },
    {
      "cell_type": "code",
      "metadata": {
        "colab": {
          "base_uri": "https://localhost:8080/",
          "height": 195
        },
        "id": "WW9tKaL_EgCG",
        "outputId": "8ee3cbe3-c6da-4cdb-82c7-a10d8b18739e"
      },
      "source": [
        "fake.head()"
      ],
      "execution_count": null,
      "outputs": [
        {
          "output_type": "execute_result",
          "data": {
            "text/html": [
              "<div>\n",
              "<style scoped>\n",
              "    .dataframe tbody tr th:only-of-type {\n",
              "        vertical-align: middle;\n",
              "    }\n",
              "\n",
              "    .dataframe tbody tr th {\n",
              "        vertical-align: top;\n",
              "    }\n",
              "\n",
              "    .dataframe thead th {\n",
              "        text-align: right;\n",
              "    }\n",
              "</style>\n",
              "<table border=\"1\" class=\"dataframe\">\n",
              "  <thead>\n",
              "    <tr style=\"text-align: right;\">\n",
              "      <th></th>\n",
              "      <th>text</th>\n",
              "      <th>label</th>\n",
              "    </tr>\n",
              "  </thead>\n",
              "  <tbody>\n",
              "    <tr>\n",
              "      <th>0</th>\n",
              "      <td>Donald Trump just couldn t wish all Americans ...</td>\n",
              "      <td>fake</td>\n",
              "    </tr>\n",
              "    <tr>\n",
              "      <th>1</th>\n",
              "      <td>House Intelligence Committee Chairman Devin Nu...</td>\n",
              "      <td>fake</td>\n",
              "    </tr>\n",
              "    <tr>\n",
              "      <th>2</th>\n",
              "      <td>On Friday, it was revealed that former Milwauk...</td>\n",
              "      <td>fake</td>\n",
              "    </tr>\n",
              "    <tr>\n",
              "      <th>3</th>\n",
              "      <td>On Christmas day, Donald Trump announced that ...</td>\n",
              "      <td>fake</td>\n",
              "    </tr>\n",
              "    <tr>\n",
              "      <th>4</th>\n",
              "      <td>Pope Francis used his annual Christmas Day mes...</td>\n",
              "      <td>fake</td>\n",
              "    </tr>\n",
              "  </tbody>\n",
              "</table>\n",
              "</div>"
            ],
            "text/plain": [
              "                                                text label\n",
              "0  Donald Trump just couldn t wish all Americans ...  fake\n",
              "1  House Intelligence Committee Chairman Devin Nu...  fake\n",
              "2  On Friday, it was revealed that former Milwauk...  fake\n",
              "3  On Christmas day, Donald Trump announced that ...  fake\n",
              "4  Pope Francis used his annual Christmas Day mes...  fake"
            ]
          },
          "metadata": {
            "tags": []
          },
          "execution_count": 15
        }
      ]
    },
    {
      "cell_type": "code",
      "metadata": {
        "colab": {
          "base_uri": "https://localhost:8080/",
          "height": 195
        },
        "id": "_i3nSPLjEpHd",
        "outputId": "bfc9930a-cd01-4890-d632-fc465e8df4cb"
      },
      "source": [
        "true.head()"
      ],
      "execution_count": null,
      "outputs": [
        {
          "output_type": "execute_result",
          "data": {
            "text/html": [
              "<div>\n",
              "<style scoped>\n",
              "    .dataframe tbody tr th:only-of-type {\n",
              "        vertical-align: middle;\n",
              "    }\n",
              "\n",
              "    .dataframe tbody tr th {\n",
              "        vertical-align: top;\n",
              "    }\n",
              "\n",
              "    .dataframe thead th {\n",
              "        text-align: right;\n",
              "    }\n",
              "</style>\n",
              "<table border=\"1\" class=\"dataframe\">\n",
              "  <thead>\n",
              "    <tr style=\"text-align: right;\">\n",
              "      <th></th>\n",
              "      <th>text</th>\n",
              "      <th>label</th>\n",
              "    </tr>\n",
              "  </thead>\n",
              "  <tbody>\n",
              "    <tr>\n",
              "      <th>0</th>\n",
              "      <td>The head of a conservative Republican faction...</td>\n",
              "      <td>true</td>\n",
              "    </tr>\n",
              "    <tr>\n",
              "      <th>1</th>\n",
              "      <td>Transgender people will be allowed for the fi...</td>\n",
              "      <td>true</td>\n",
              "    </tr>\n",
              "    <tr>\n",
              "      <th>2</th>\n",
              "      <td>The special counsel investigation of links be...</td>\n",
              "      <td>true</td>\n",
              "    </tr>\n",
              "    <tr>\n",
              "      <th>3</th>\n",
              "      <td>Trump campaign adviser George Papadopoulos to...</td>\n",
              "      <td>true</td>\n",
              "    </tr>\n",
              "    <tr>\n",
              "      <th>4</th>\n",
              "      <td>President Donald Trump called on the U.S. Pos...</td>\n",
              "      <td>true</td>\n",
              "    </tr>\n",
              "  </tbody>\n",
              "</table>\n",
              "</div>"
            ],
            "text/plain": [
              "                                                text label\n",
              "0   The head of a conservative Republican faction...  true\n",
              "1   Transgender people will be allowed for the fi...  true\n",
              "2   The special counsel investigation of links be...  true\n",
              "3   Trump campaign adviser George Papadopoulos to...  true\n",
              "4   President Donald Trump called on the U.S. Pos...  true"
            ]
          },
          "metadata": {
            "tags": []
          },
          "execution_count": 16
        }
      ]
    },
    {
      "cell_type": "code",
      "metadata": {
        "id": "_YQhwOOeFDG-"
      },
      "source": [
        "final = pd.concat([true,fake], axis=0, ignore_index=True)"
      ],
      "execution_count": null,
      "outputs": []
    },
    {
      "cell_type": "code",
      "metadata": {
        "colab": {
          "base_uri": "https://localhost:8080/"
        },
        "id": "WeQ9mysmFIFG",
        "outputId": "03195453-9fa3-4ae8-f093-6c8407f27dca"
      },
      "source": [
        "final.shape"
      ],
      "execution_count": null,
      "outputs": [
        {
          "output_type": "execute_result",
          "data": {
            "text/plain": [
              "(46330, 2)"
            ]
          },
          "metadata": {
            "tags": []
          },
          "execution_count": 16
        }
      ]
    },
    {
      "cell_type": "code",
      "metadata": {
        "colab": {
          "base_uri": "https://localhost:8080/",
          "height": 195
        },
        "id": "lx48CkrBFLRW",
        "outputId": "74e33db5-e502-4e87-f192-4937a9ba15e9"
      },
      "source": [
        "final.head()"
      ],
      "execution_count": null,
      "outputs": [
        {
          "output_type": "execute_result",
          "data": {
            "text/html": [
              "<div>\n",
              "<style scoped>\n",
              "    .dataframe tbody tr th:only-of-type {\n",
              "        vertical-align: middle;\n",
              "    }\n",
              "\n",
              "    .dataframe tbody tr th {\n",
              "        vertical-align: top;\n",
              "    }\n",
              "\n",
              "    .dataframe thead th {\n",
              "        text-align: right;\n",
              "    }\n",
              "</style>\n",
              "<table border=\"1\" class=\"dataframe\">\n",
              "  <thead>\n",
              "    <tr style=\"text-align: right;\">\n",
              "      <th></th>\n",
              "      <th>text</th>\n",
              "      <th>label</th>\n",
              "    </tr>\n",
              "  </thead>\n",
              "  <tbody>\n",
              "    <tr>\n",
              "      <th>0</th>\n",
              "      <td>The head of a conservative Republican faction...</td>\n",
              "      <td>true</td>\n",
              "    </tr>\n",
              "    <tr>\n",
              "      <th>1</th>\n",
              "      <td>Transgender people will be allowed for the fi...</td>\n",
              "      <td>true</td>\n",
              "    </tr>\n",
              "    <tr>\n",
              "      <th>2</th>\n",
              "      <td>The special counsel investigation of links be...</td>\n",
              "      <td>true</td>\n",
              "    </tr>\n",
              "    <tr>\n",
              "      <th>3</th>\n",
              "      <td>Trump campaign adviser George Papadopoulos to...</td>\n",
              "      <td>true</td>\n",
              "    </tr>\n",
              "    <tr>\n",
              "      <th>4</th>\n",
              "      <td>President Donald Trump called on the U.S. Pos...</td>\n",
              "      <td>true</td>\n",
              "    </tr>\n",
              "  </tbody>\n",
              "</table>\n",
              "</div>"
            ],
            "text/plain": [
              "                                                text label\n",
              "0   The head of a conservative Republican faction...  true\n",
              "1   Transgender people will be allowed for the fi...  true\n",
              "2   The special counsel investigation of links be...  true\n",
              "3   Trump campaign adviser George Papadopoulos to...  true\n",
              "4   President Donald Trump called on the U.S. Pos...  true"
            ]
          },
          "metadata": {
            "tags": []
          },
          "execution_count": 20
        }
      ]
    },
    {
      "cell_type": "code",
      "metadata": {
        "id": "piLWml-YEoYe"
      },
      "source": [
        "from sklearn.model_selection import train_test_split\n",
        "from sklearn.feature_extraction.text import TfidfVectorizer\n",
        "from sklearn.linear_model import PassiveAggressiveClassifier\n",
        "from sklearn.metrics import accuracy_score, confusion_matrix"
      ],
      "execution_count": null,
      "outputs": []
    },
    {
      "cell_type": "code",
      "metadata": {
        "id": "ICidUhyMEoSu"
      },
      "source": [
        "x = final['text']\n",
        "y = final['label']"
      ],
      "execution_count": null,
      "outputs": []
    },
    {
      "cell_type": "code",
      "metadata": {
        "colab": {
          "base_uri": "https://localhost:8080/"
        },
        "id": "4TGwpkQGEoQG",
        "outputId": "e8a20333-44e4-4c50-8964-89653428ae6b"
      },
      "source": [
        "x"
      ],
      "execution_count": null,
      "outputs": [
        {
          "output_type": "execute_result",
          "data": {
            "text/plain": [
              "0         The head of a conservative Republican faction...\n",
              "1         Transgender people will be allowed for the fi...\n",
              "2         The special counsel investigation of links be...\n",
              "3         Trump campaign adviser George Papadopoulos to...\n",
              "4         President Donald Trump called on the U.S. Pos...\n",
              "                               ...                        \n",
              "46325    Have an important tip? Let us know. Email us h...\n",
              "46326    Keep up to date with our latest:\\n\\nHave an im...\n",
              "46327    Have an important tip? Let us know. Email us h...\n",
              "46328    Chaz Neal, a prominent BLM activist in Minneso...\n",
              "46329    Have an important tip? Let us know. Email us h...\n",
              "Name: text, Length: 46330, dtype: object"
            ]
          },
          "metadata": {
            "tags": []
          },
          "execution_count": 22
        }
      ]
    },
    {
      "cell_type": "code",
      "metadata": {
        "colab": {
          "base_uri": "https://localhost:8080/"
        },
        "id": "TVh76rz-EoNG",
        "outputId": "fbcaadaa-ad0a-4dd0-fbcd-f6809249e975"
      },
      "source": [
        "y"
      ],
      "execution_count": null,
      "outputs": [
        {
          "output_type": "execute_result",
          "data": {
            "text/plain": [
              "0        true\n",
              "1        true\n",
              "2        true\n",
              "3        true\n",
              "4        true\n",
              "         ... \n",
              "46325    fake\n",
              "46326    fake\n",
              "46327    fake\n",
              "46328    fake\n",
              "46329    fake\n",
              "Name: label, Length: 46330, dtype: object"
            ]
          },
          "metadata": {
            "tags": []
          },
          "execution_count": 23
        }
      ]
    },
    {
      "cell_type": "code",
      "metadata": {
        "colab": {
          "base_uri": "https://localhost:8080/"
        },
        "id": "kdA-HTWYEoJ2",
        "outputId": "7016a240-94f4-4ee7-a3cb-da32928e7830"
      },
      "source": [
        "x_train,x_test,y_train,y_test = train_test_split(x,y,test_size=0.2,random_state=0)\n",
        "y_train"
      ],
      "execution_count": null,
      "outputs": [
        {
          "output_type": "execute_result",
          "data": {
            "text/plain": [
              "45480    fake\n",
              "5334     true\n",
              "37234    fake\n",
              "17703    true\n",
              "32855    fake\n",
              "         ... \n",
              "21243    true\n",
              "45891    fake\n",
              "42613    fake\n",
              "43567    fake\n",
              "2732     true\n",
              "Name: label, Length: 37064, dtype: object"
            ]
          },
          "metadata": {
            "tags": []
          },
          "execution_count": 19
        }
      ]
    },
    {
      "cell_type": "code",
      "metadata": {
        "id": "a_dmbixtEoHF"
      },
      "source": [
        "tfvect = TfidfVectorizer(stop_words='english',max_df=0.7)\n",
        "tfid_x_train = tfvect.fit_transform(x_train)\n",
        "tfid_x_test = tfvect.transform(x_test)"
      ],
      "execution_count": null,
      "outputs": []
    },
    {
      "cell_type": "code",
      "metadata": {
        "colab": {
          "base_uri": "https://localhost:8080/"
        },
        "id": "H7dsaOZkFjxd",
        "outputId": "2bedfb1c-dc9a-4f7a-e46b-7b4c2e5caae2"
      },
      "source": [
        "classifier = PassiveAggressiveClassifier(max_iter=50)\n",
        "classifier.fit(tfid_x_train,y_train)"
      ],
      "execution_count": null,
      "outputs": [
        {
          "output_type": "execute_result",
          "data": {
            "text/plain": [
              "PassiveAggressiveClassifier(C=1.0, average=False, class_weight=None,\n",
              "                            early_stopping=False, fit_intercept=True,\n",
              "                            loss='hinge', max_iter=50, n_iter_no_change=5,\n",
              "                            n_jobs=None, random_state=None, shuffle=True,\n",
              "                            tol=0.001, validation_fraction=0.1, verbose=0,\n",
              "                            warm_start=False)"
            ]
          },
          "metadata": {
            "tags": []
          },
          "execution_count": 21
        }
      ]
    },
    {
      "cell_type": "code",
      "metadata": {
        "colab": {
          "base_uri": "https://localhost:8080/"
        },
        "id": "B09RHB3XFjvB",
        "outputId": "f137721a-2057-4787-f2fa-efafd584d71a"
      },
      "source": [
        "y_pred = classifier.predict(tfid_x_test)\n",
        "score = accuracy_score(y_test,y_pred)\n",
        "print(f'Accuracy: {round(score*100,2)}%')"
      ],
      "execution_count": null,
      "outputs": [
        {
          "output_type": "stream",
          "text": [
            "Accuracy: 98.29%\n"
          ],
          "name": "stdout"
        }
      ]
    },
    {
      "cell_type": "code",
      "metadata": {
        "colab": {
          "base_uri": "https://localhost:8080/"
        },
        "id": "gsNwJZ-TFjsh",
        "outputId": "d4141e5c-efe1-4d52-c77b-c0ef471ae7c8"
      },
      "source": [
        "cf = confusion_matrix(y_test,y_pred, labels=['fake','true'])\n",
        "print(cf)"
      ],
      "execution_count": null,
      "outputs": [
        {
          "output_type": "stream",
          "text": [
            "[[4791   73]\n",
            " [  85 4317]]\n"
          ],
          "name": "stdout"
        }
      ]
    },
    {
      "cell_type": "code",
      "metadata": {
        "id": "lLn7C_szFjqP"
      },
      "source": [
        "def fake_news_det(news):\n",
        "    input_data = [news]\n",
        "    vectorized_input_data = tfvect.transform(input_data)\n",
        "    prediction = classifier.predict(vectorized_input_data)\n",
        "    print(prediction)"
      ],
      "execution_count": null,
      "outputs": []
    },
    {
      "cell_type": "code",
      "metadata": {
        "colab": {
          "base_uri": "https://localhost:8080/"
        },
        "id": "023u-0VUFjn6",
        "outputId": "125fa919-4246-4696-dda6-2e2daee21d66"
      },
      "source": [
        "fake_news_det('U.S. Secretary of State John F. Kerry said Monday that he will stop in Paris later this week, amid criticism that no top American officials attended Sundayâ€™s unity march against terrorism.')"
      ],
      "execution_count": null,
      "outputs": [
        {
          "output_type": "stream",
          "text": [
            "['true']\n"
          ],
          "name": "stdout"
        }
      ]
    },
    {
      "cell_type": "code",
      "metadata": {
        "colab": {
          "base_uri": "https://localhost:8080/"
        },
        "id": "mD_oFbP4Fjla",
        "outputId": "ae0a8098-cfb3-4977-c387-f629bf5ae93f"
      },
      "source": [
        "fake_news_det(\"\"\"Go to Article \n",
        "President Barack Obama has been campaigning hard for the woman who is supposedly going to extend his legacy four more years. The only problem with stumping for Hillary Clinton, however, is sheâ€™s not exactly a candidate easy to get too enthused about.  \"\"\")"
      ],
      "execution_count": null,
      "outputs": [
        {
          "output_type": "stream",
          "text": [
            "['fake']\n"
          ],
          "name": "stdout"
        }
      ]
    },
    {
      "cell_type": "markdown",
      "metadata": {
        "id": "Dlk31I-BKbG1"
      },
      "source": [
        "Binomial Logistic Regression"
      ]
    },
    {
      "cell_type": "code",
      "metadata": {
        "colab": {
          "base_uri": "https://localhost:8080/"
        },
        "id": "FECJA98DGpxQ",
        "outputId": "f96fe8c7-90fc-4aff-9dd9-ff6462cec15b"
      },
      "source": [
        "from sklearn.linear_model import LogisticRegression\n",
        "\n",
        "# 2. instantiate a logistic regression model\n",
        "lr = LogisticRegression()\n",
        "\n",
        "lr.fit(tfid_x_train,y_train)"
      ],
      "execution_count": null,
      "outputs": [
        {
          "output_type": "execute_result",
          "data": {
            "text/plain": [
              "LogisticRegression(C=1.0, class_weight=None, dual=False, fit_intercept=True,\n",
              "                   intercept_scaling=1, l1_ratio=None, max_iter=100,\n",
              "                   multi_class='auto', n_jobs=None, penalty='l2',\n",
              "                   random_state=None, solver='lbfgs', tol=0.0001, verbose=0,\n",
              "                   warm_start=False)"
            ]
          },
          "metadata": {
            "tags": []
          },
          "execution_count": 27
        }
      ]
    },
    {
      "cell_type": "code",
      "metadata": {
        "colab": {
          "base_uri": "https://localhost:8080/"
        },
        "id": "Gy9uG908Kcjk",
        "outputId": "a44eae4d-8a2a-497b-e66a-07919b4445e6"
      },
      "source": [
        "y_pred_lr = lr.predict(tfid_x_test)\n",
        "score = accuracy_score(y_test,y_pred_lr)\n",
        "print(f'Accuracy: {round(score*100,2)}%')"
      ],
      "execution_count": null,
      "outputs": [
        {
          "output_type": "stream",
          "text": [
            "Accuracy: 96.84%\n"
          ],
          "name": "stdout"
        }
      ]
    },
    {
      "cell_type": "code",
      "metadata": {
        "colab": {
          "base_uri": "https://localhost:8080/"
        },
        "id": "7cmE9J2EKcaR",
        "outputId": "a5cefe17-0b2d-4c2f-f184-e137f3bffd5b"
      },
      "source": [
        "cf = confusion_matrix(y_test,y_pred_lr, labels=['fake','true'])\n",
        "print(cf)"
      ],
      "execution_count": null,
      "outputs": [
        {
          "output_type": "stream",
          "text": [
            "[[4718  146]\n",
            " [ 147 4255]]\n"
          ],
          "name": "stdout"
        }
      ]
    },
    {
      "cell_type": "markdown",
      "metadata": {
        "id": "Cos67WwLK4WO"
      },
      "source": [
        "Support Vector Machines"
      ]
    },
    {
      "cell_type": "code",
      "metadata": {
        "colab": {
          "base_uri": "https://localhost:8080/"
        },
        "id": "jBGW-SVSKcXc",
        "outputId": "56f5a363-2e87-4a0c-9d88-fe02901c8b1b"
      },
      "source": [
        "from sklearn.svm import SVC\n",
        "\n",
        "#Linear kernel fits decently well, decided not to use another kernel because of parsimony \n",
        "#and because linear has the lowest risk of overfitting\n",
        "svc = SVC(kernel='linear', random_state=1) \n",
        "svc.fit(tfid_x_train,y_train)"
      ],
      "execution_count": null,
      "outputs": [
        {
          "output_type": "execute_result",
          "data": {
            "text/plain": [
              "SVC(C=1.0, break_ties=False, cache_size=200, class_weight=None, coef0=0.0,\n",
              "    decision_function_shape='ovr', degree=3, gamma='scale', kernel='linear',\n",
              "    max_iter=-1, probability=False, random_state=1, shrinking=True, tol=0.001,\n",
              "    verbose=False)"
            ]
          },
          "metadata": {
            "tags": []
          },
          "execution_count": 30
        }
      ]
    },
    {
      "cell_type": "code",
      "metadata": {
        "colab": {
          "base_uri": "https://localhost:8080/"
        },
        "id": "-1g8Xl7LK84V",
        "outputId": "dc95e3d6-002b-4344-9895-0090016d9223"
      },
      "source": [
        "y_pred_svm = svc.predict(tfid_x_test)\n",
        "score = accuracy_score(y_test,y_pred_svm)\n",
        "print(f'Accuracy: {round(score*100,2)}%')"
      ],
      "execution_count": null,
      "outputs": [
        {
          "output_type": "stream",
          "text": [
            "Accuracy: 97.8%\n"
          ],
          "name": "stdout"
        }
      ]
    },
    {
      "cell_type": "code",
      "metadata": {
        "colab": {
          "base_uri": "https://localhost:8080/"
        },
        "id": "a4iTw5fdLKtV",
        "outputId": "ee8777f9-54d6-4c9b-c3d6-6344b26b31f6"
      },
      "source": [
        "\n",
        "cf = confusion_matrix(y_test,y_pred_lr, labels=['fake','true'])\n",
        "print(cf)"
      ],
      "execution_count": null,
      "outputs": [
        {
          "output_type": "stream",
          "text": [
            "[[4718  146]\n",
            " [ 147 4255]]\n"
          ],
          "name": "stdout"
        }
      ]
    },
    {
      "cell_type": "code",
      "metadata": {
        "id": "euFKrEScPaAE"
      },
      "source": [
        ""
      ],
      "execution_count": null,
      "outputs": []
    }
  ]
}